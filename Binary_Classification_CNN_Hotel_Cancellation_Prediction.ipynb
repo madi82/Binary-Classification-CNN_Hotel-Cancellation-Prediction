{
  "nbformat": 4,
  "nbformat_minor": 0,
  "metadata": {
    "colab": {
      "name": "Binary_Classification_CNN_Hotel_Cancellation_Prediction.ipynb",
      "provenance": [],
      "collapsed_sections": []
    },
    "kernelspec": {
      "name": "python3",
      "display_name": "Python 3"
    },
    "language_info": {
      "name": "python"
    }
  },
  "cells": [
    {
      "cell_type": "markdown",
      "source": [
        "\n",
        "*   Deep Learning \n",
        "*   Problem - Binary Classification\n",
        "*   Dataset - Hotel Cancellation Prediction\n",
        "*   Model - Created by own (CNN)\n",
        "*   Major Tools - Google Colab (Jupyter Notebook, Tensorflow, Keras)\n"
      ],
      "metadata": {
        "id": "xdmovQ0Q2A5U"
      }
    },
    {
      "cell_type": "markdown",
      "source": [
        "Import libraries"
      ],
      "metadata": {
        "id": "sFmUhPOypU-m"
      }
    },
    {
      "cell_type": "code",
      "execution_count": 20,
      "metadata": {
        "id": "hDV-lu_cpIyo"
      },
      "outputs": [],
      "source": [
        "import pandas as pd\n",
        "import numpy as np\n",
        "\n",
        "from sklearn.model_selection import train_test_split\n",
        "from sklearn.preprocessing import StandardScaler, OneHotEncoder\n",
        "from sklearn.impute import SimpleImputer\n",
        "from sklearn.pipeline import make_pipeline\n",
        "from sklearn.compose import make_column_transformer\n",
        "\n",
        "from tensorflow.keras.callbacks import CSVLogger, ModelCheckpoint\n",
        "from tensorflow.keras.layers import Dense, Flatten, Conv2D, MaxPool2D,MaxPooling2D, Activation, BatchNormalization, Dropout\n",
        "from tensorflow.keras.models import Sequential\n",
        "from tensorflow.keras.optimizers import SGD, Adam\n",
        "from tensorflow.keras.callbacks import CSVLogger, ModelCheckpoint, EarlyStopping\n",
        "from tensorflow.keras.preprocessing.image import ImageDataGenerator, load_img\n",
        "import tensorflow as tf\n",
        "\n",
        "import matplotlib.pyplot as plt\n",
        "import seaborn as sns\n",
        "plt.style.use('fivethirtyeight')\n",
        "import warnings\n",
        "warnings.filterwarnings('ignore')\n",
        "%matplotlib inline"
      ]
    },
    {
      "cell_type": "code",
      "source": [
        "from google.colab import drive\n",
        "drive.mount('/content/gdrive')"
      ],
      "metadata": {
        "colab": {
          "base_uri": "https://localhost:8080/"
        },
        "id": "wCUfZWD8xy4z",
        "outputId": "a5db1a96-6adb-492c-8fa6-5f0cf800e8e1"
      },
      "execution_count": 7,
      "outputs": [
        {
          "output_type": "stream",
          "name": "stdout",
          "text": [
            "Mounted at /content/gdrive\n"
          ]
        }
      ]
    },
    {
      "cell_type": "code",
      "source": [
        "drive_path = '/content/drive/MyDrive/data/'"
      ],
      "metadata": {
        "id": "lOLUSAUOqdSn"
      },
      "execution_count": 8,
      "outputs": []
    },
    {
      "cell_type": "code",
      "source": [
        "!unzip -q '/content/gdrive/MyDrive/data/hotel_bookings.csv.zip'"
      ],
      "metadata": {
        "id": "n6bo_D3-xjzA"
      },
      "execution_count": 11,
      "outputs": []
    },
    {
      "cell_type": "markdown",
      "source": [
        "Read dataset using pandas"
      ],
      "metadata": {
        "id": "kGXgCbYYpiN-"
      }
    },
    {
      "cell_type": "code",
      "source": [
        "# link for dataset - https://www.kaggle.com/aayushaswal/hotel-cancellation-prediction/data\n",
        "\n",
        "pd.pandas.set_option('display.max_columns',None) # Displays all columns of dataframe\n",
        "dataset = pd.read_csv('/content/hotel_bookings.csv')\n",
        "dataset.head()"
      ],
      "metadata": {
        "colab": {
          "base_uri": "https://localhost:8080/",
          "height": 353
        },
        "id": "h_i5HX5_paW8",
        "outputId": "8232f000-0aa7-4567-8d9b-3de322c2e90f"
      },
      "execution_count": 12,
      "outputs": [
        {
          "output_type": "execute_result",
          "data": {
            "text/html": [
              "\n",
              "  <div id=\"df-28143fde-b106-4b6e-9b8a-43c8a55a10ba\">\n",
              "    <div class=\"colab-df-container\">\n",
              "      <div>\n",
              "<style scoped>\n",
              "    .dataframe tbody tr th:only-of-type {\n",
              "        vertical-align: middle;\n",
              "    }\n",
              "\n",
              "    .dataframe tbody tr th {\n",
              "        vertical-align: top;\n",
              "    }\n",
              "\n",
              "    .dataframe thead th {\n",
              "        text-align: right;\n",
              "    }\n",
              "</style>\n",
              "<table border=\"1\" class=\"dataframe\">\n",
              "  <thead>\n",
              "    <tr style=\"text-align: right;\">\n",
              "      <th></th>\n",
              "      <th>hotel</th>\n",
              "      <th>is_canceled</th>\n",
              "      <th>lead_time</th>\n",
              "      <th>arrival_date_year</th>\n",
              "      <th>arrival_date_month</th>\n",
              "      <th>arrival_date_week_number</th>\n",
              "      <th>arrival_date_day_of_month</th>\n",
              "      <th>stays_in_weekend_nights</th>\n",
              "      <th>stays_in_week_nights</th>\n",
              "      <th>adults</th>\n",
              "      <th>children</th>\n",
              "      <th>babies</th>\n",
              "      <th>meal</th>\n",
              "      <th>country</th>\n",
              "      <th>market_segment</th>\n",
              "      <th>distribution_channel</th>\n",
              "      <th>is_repeated_guest</th>\n",
              "      <th>previous_cancellations</th>\n",
              "      <th>previous_bookings_not_canceled</th>\n",
              "      <th>reserved_room_type</th>\n",
              "      <th>assigned_room_type</th>\n",
              "      <th>booking_changes</th>\n",
              "      <th>deposit_type</th>\n",
              "      <th>agent</th>\n",
              "      <th>company</th>\n",
              "      <th>days_in_waiting_list</th>\n",
              "      <th>customer_type</th>\n",
              "      <th>adr</th>\n",
              "      <th>required_car_parking_spaces</th>\n",
              "      <th>total_of_special_requests</th>\n",
              "      <th>reservation_status</th>\n",
              "      <th>reservation_status_date</th>\n",
              "    </tr>\n",
              "  </thead>\n",
              "  <tbody>\n",
              "    <tr>\n",
              "      <th>0</th>\n",
              "      <td>Resort Hotel</td>\n",
              "      <td>0</td>\n",
              "      <td>342</td>\n",
              "      <td>2015</td>\n",
              "      <td>July</td>\n",
              "      <td>27</td>\n",
              "      <td>1</td>\n",
              "      <td>0</td>\n",
              "      <td>0</td>\n",
              "      <td>2</td>\n",
              "      <td>0.0</td>\n",
              "      <td>0</td>\n",
              "      <td>BB</td>\n",
              "      <td>PRT</td>\n",
              "      <td>Direct</td>\n",
              "      <td>Direct</td>\n",
              "      <td>0</td>\n",
              "      <td>0</td>\n",
              "      <td>0</td>\n",
              "      <td>C</td>\n",
              "      <td>C</td>\n",
              "      <td>3</td>\n",
              "      <td>No Deposit</td>\n",
              "      <td>NaN</td>\n",
              "      <td>NaN</td>\n",
              "      <td>0</td>\n",
              "      <td>Transient</td>\n",
              "      <td>0.0</td>\n",
              "      <td>0</td>\n",
              "      <td>0</td>\n",
              "      <td>Check-Out</td>\n",
              "      <td>2015-07-01</td>\n",
              "    </tr>\n",
              "    <tr>\n",
              "      <th>1</th>\n",
              "      <td>Resort Hotel</td>\n",
              "      <td>0</td>\n",
              "      <td>737</td>\n",
              "      <td>2015</td>\n",
              "      <td>July</td>\n",
              "      <td>27</td>\n",
              "      <td>1</td>\n",
              "      <td>0</td>\n",
              "      <td>0</td>\n",
              "      <td>2</td>\n",
              "      <td>0.0</td>\n",
              "      <td>0</td>\n",
              "      <td>BB</td>\n",
              "      <td>PRT</td>\n",
              "      <td>Direct</td>\n",
              "      <td>Direct</td>\n",
              "      <td>0</td>\n",
              "      <td>0</td>\n",
              "      <td>0</td>\n",
              "      <td>C</td>\n",
              "      <td>C</td>\n",
              "      <td>4</td>\n",
              "      <td>No Deposit</td>\n",
              "      <td>NaN</td>\n",
              "      <td>NaN</td>\n",
              "      <td>0</td>\n",
              "      <td>Transient</td>\n",
              "      <td>0.0</td>\n",
              "      <td>0</td>\n",
              "      <td>0</td>\n",
              "      <td>Check-Out</td>\n",
              "      <td>2015-07-01</td>\n",
              "    </tr>\n",
              "    <tr>\n",
              "      <th>2</th>\n",
              "      <td>Resort Hotel</td>\n",
              "      <td>0</td>\n",
              "      <td>7</td>\n",
              "      <td>2015</td>\n",
              "      <td>July</td>\n",
              "      <td>27</td>\n",
              "      <td>1</td>\n",
              "      <td>0</td>\n",
              "      <td>1</td>\n",
              "      <td>1</td>\n",
              "      <td>0.0</td>\n",
              "      <td>0</td>\n",
              "      <td>BB</td>\n",
              "      <td>GBR</td>\n",
              "      <td>Direct</td>\n",
              "      <td>Direct</td>\n",
              "      <td>0</td>\n",
              "      <td>0</td>\n",
              "      <td>0</td>\n",
              "      <td>A</td>\n",
              "      <td>C</td>\n",
              "      <td>0</td>\n",
              "      <td>No Deposit</td>\n",
              "      <td>NaN</td>\n",
              "      <td>NaN</td>\n",
              "      <td>0</td>\n",
              "      <td>Transient</td>\n",
              "      <td>75.0</td>\n",
              "      <td>0</td>\n",
              "      <td>0</td>\n",
              "      <td>Check-Out</td>\n",
              "      <td>2015-07-02</td>\n",
              "    </tr>\n",
              "    <tr>\n",
              "      <th>3</th>\n",
              "      <td>Resort Hotel</td>\n",
              "      <td>0</td>\n",
              "      <td>13</td>\n",
              "      <td>2015</td>\n",
              "      <td>July</td>\n",
              "      <td>27</td>\n",
              "      <td>1</td>\n",
              "      <td>0</td>\n",
              "      <td>1</td>\n",
              "      <td>1</td>\n",
              "      <td>0.0</td>\n",
              "      <td>0</td>\n",
              "      <td>BB</td>\n",
              "      <td>GBR</td>\n",
              "      <td>Corporate</td>\n",
              "      <td>Corporate</td>\n",
              "      <td>0</td>\n",
              "      <td>0</td>\n",
              "      <td>0</td>\n",
              "      <td>A</td>\n",
              "      <td>A</td>\n",
              "      <td>0</td>\n",
              "      <td>No Deposit</td>\n",
              "      <td>304.0</td>\n",
              "      <td>NaN</td>\n",
              "      <td>0</td>\n",
              "      <td>Transient</td>\n",
              "      <td>75.0</td>\n",
              "      <td>0</td>\n",
              "      <td>0</td>\n",
              "      <td>Check-Out</td>\n",
              "      <td>2015-07-02</td>\n",
              "    </tr>\n",
              "    <tr>\n",
              "      <th>4</th>\n",
              "      <td>Resort Hotel</td>\n",
              "      <td>0</td>\n",
              "      <td>14</td>\n",
              "      <td>2015</td>\n",
              "      <td>July</td>\n",
              "      <td>27</td>\n",
              "      <td>1</td>\n",
              "      <td>0</td>\n",
              "      <td>2</td>\n",
              "      <td>2</td>\n",
              "      <td>0.0</td>\n",
              "      <td>0</td>\n",
              "      <td>BB</td>\n",
              "      <td>GBR</td>\n",
              "      <td>Online TA</td>\n",
              "      <td>TA/TO</td>\n",
              "      <td>0</td>\n",
              "      <td>0</td>\n",
              "      <td>0</td>\n",
              "      <td>A</td>\n",
              "      <td>A</td>\n",
              "      <td>0</td>\n",
              "      <td>No Deposit</td>\n",
              "      <td>240.0</td>\n",
              "      <td>NaN</td>\n",
              "      <td>0</td>\n",
              "      <td>Transient</td>\n",
              "      <td>98.0</td>\n",
              "      <td>0</td>\n",
              "      <td>1</td>\n",
              "      <td>Check-Out</td>\n",
              "      <td>2015-07-03</td>\n",
              "    </tr>\n",
              "  </tbody>\n",
              "</table>\n",
              "</div>\n",
              "      <button class=\"colab-df-convert\" onclick=\"convertToInteractive('df-28143fde-b106-4b6e-9b8a-43c8a55a10ba')\"\n",
              "              title=\"Convert this dataframe to an interactive table.\"\n",
              "              style=\"display:none;\">\n",
              "        \n",
              "  <svg xmlns=\"http://www.w3.org/2000/svg\" height=\"24px\"viewBox=\"0 0 24 24\"\n",
              "       width=\"24px\">\n",
              "    <path d=\"M0 0h24v24H0V0z\" fill=\"none\"/>\n",
              "    <path d=\"M18.56 5.44l.94 2.06.94-2.06 2.06-.94-2.06-.94-.94-2.06-.94 2.06-2.06.94zm-11 1L8.5 8.5l.94-2.06 2.06-.94-2.06-.94L8.5 2.5l-.94 2.06-2.06.94zm10 10l.94 2.06.94-2.06 2.06-.94-2.06-.94-.94-2.06-.94 2.06-2.06.94z\"/><path d=\"M17.41 7.96l-1.37-1.37c-.4-.4-.92-.59-1.43-.59-.52 0-1.04.2-1.43.59L10.3 9.45l-7.72 7.72c-.78.78-.78 2.05 0 2.83L4 21.41c.39.39.9.59 1.41.59.51 0 1.02-.2 1.41-.59l7.78-7.78 2.81-2.81c.8-.78.8-2.07 0-2.86zM5.41 20L4 18.59l7.72-7.72 1.47 1.35L5.41 20z\"/>\n",
              "  </svg>\n",
              "      </button>\n",
              "      \n",
              "  <style>\n",
              "    .colab-df-container {\n",
              "      display:flex;\n",
              "      flex-wrap:wrap;\n",
              "      gap: 12px;\n",
              "    }\n",
              "\n",
              "    .colab-df-convert {\n",
              "      background-color: #E8F0FE;\n",
              "      border: none;\n",
              "      border-radius: 50%;\n",
              "      cursor: pointer;\n",
              "      display: none;\n",
              "      fill: #1967D2;\n",
              "      height: 32px;\n",
              "      padding: 0 0 0 0;\n",
              "      width: 32px;\n",
              "    }\n",
              "\n",
              "    .colab-df-convert:hover {\n",
              "      background-color: #E2EBFA;\n",
              "      box-shadow: 0px 1px 2px rgba(60, 64, 67, 0.3), 0px 1px 3px 1px rgba(60, 64, 67, 0.15);\n",
              "      fill: #174EA6;\n",
              "    }\n",
              "\n",
              "    [theme=dark] .colab-df-convert {\n",
              "      background-color: #3B4455;\n",
              "      fill: #D2E3FC;\n",
              "    }\n",
              "\n",
              "    [theme=dark] .colab-df-convert:hover {\n",
              "      background-color: #434B5C;\n",
              "      box-shadow: 0px 1px 3px 1px rgba(0, 0, 0, 0.15);\n",
              "      filter: drop-shadow(0px 1px 2px rgba(0, 0, 0, 0.3));\n",
              "      fill: #FFFFFF;\n",
              "    }\n",
              "  </style>\n",
              "\n",
              "      <script>\n",
              "        const buttonEl =\n",
              "          document.querySelector('#df-28143fde-b106-4b6e-9b8a-43c8a55a10ba button.colab-df-convert');\n",
              "        buttonEl.style.display =\n",
              "          google.colab.kernel.accessAllowed ? 'block' : 'none';\n",
              "\n",
              "        async function convertToInteractive(key) {\n",
              "          const element = document.querySelector('#df-28143fde-b106-4b6e-9b8a-43c8a55a10ba');\n",
              "          const dataTable =\n",
              "            await google.colab.kernel.invokeFunction('convertToInteractive',\n",
              "                                                     [key], {});\n",
              "          if (!dataTable) return;\n",
              "\n",
              "          const docLinkHtml = 'Like what you see? Visit the ' +\n",
              "            '<a target=\"_blank\" href=https://colab.research.google.com/notebooks/data_table.ipynb>data table notebook</a>'\n",
              "            + ' to learn more about interactive tables.';\n",
              "          element.innerHTML = '';\n",
              "          dataTable['output_type'] = 'display_data';\n",
              "          await google.colab.output.renderOutput(dataTable, element);\n",
              "          const docLink = document.createElement('div');\n",
              "          docLink.innerHTML = docLinkHtml;\n",
              "          element.appendChild(docLink);\n",
              "        }\n",
              "      </script>\n",
              "    </div>\n",
              "  </div>\n",
              "  "
            ],
            "text/plain": [
              "          hotel  is_canceled  lead_time  arrival_date_year arrival_date_month  \\\n",
              "0  Resort Hotel            0        342               2015               July   \n",
              "1  Resort Hotel            0        737               2015               July   \n",
              "2  Resort Hotel            0          7               2015               July   \n",
              "3  Resort Hotel            0         13               2015               July   \n",
              "4  Resort Hotel            0         14               2015               July   \n",
              "\n",
              "   arrival_date_week_number  arrival_date_day_of_month  \\\n",
              "0                        27                          1   \n",
              "1                        27                          1   \n",
              "2                        27                          1   \n",
              "3                        27                          1   \n",
              "4                        27                          1   \n",
              "\n",
              "   stays_in_weekend_nights  stays_in_week_nights  adults  children  babies  \\\n",
              "0                        0                     0       2       0.0       0   \n",
              "1                        0                     0       2       0.0       0   \n",
              "2                        0                     1       1       0.0       0   \n",
              "3                        0                     1       1       0.0       0   \n",
              "4                        0                     2       2       0.0       0   \n",
              "\n",
              "  meal country market_segment distribution_channel  is_repeated_guest  \\\n",
              "0   BB     PRT         Direct               Direct                  0   \n",
              "1   BB     PRT         Direct               Direct                  0   \n",
              "2   BB     GBR         Direct               Direct                  0   \n",
              "3   BB     GBR      Corporate            Corporate                  0   \n",
              "4   BB     GBR      Online TA                TA/TO                  0   \n",
              "\n",
              "   previous_cancellations  previous_bookings_not_canceled reserved_room_type  \\\n",
              "0                       0                               0                  C   \n",
              "1                       0                               0                  C   \n",
              "2                       0                               0                  A   \n",
              "3                       0                               0                  A   \n",
              "4                       0                               0                  A   \n",
              "\n",
              "  assigned_room_type  booking_changes deposit_type  agent  company  \\\n",
              "0                  C                3   No Deposit    NaN      NaN   \n",
              "1                  C                4   No Deposit    NaN      NaN   \n",
              "2                  C                0   No Deposit    NaN      NaN   \n",
              "3                  A                0   No Deposit  304.0      NaN   \n",
              "4                  A                0   No Deposit  240.0      NaN   \n",
              "\n",
              "   days_in_waiting_list customer_type   adr  required_car_parking_spaces  \\\n",
              "0                     0     Transient   0.0                            0   \n",
              "1                     0     Transient   0.0                            0   \n",
              "2                     0     Transient  75.0                            0   \n",
              "3                     0     Transient  75.0                            0   \n",
              "4                     0     Transient  98.0                            0   \n",
              "\n",
              "   total_of_special_requests reservation_status reservation_status_date  \n",
              "0                          0          Check-Out              2015-07-01  \n",
              "1                          0          Check-Out              2015-07-01  \n",
              "2                          0          Check-Out              2015-07-02  \n",
              "3                          0          Check-Out              2015-07-02  \n",
              "4                          1          Check-Out              2015-07-03  "
            ]
          },
          "metadata": {},
          "execution_count": 12
        }
      ]
    },
    {
      "cell_type": "code",
      "source": [
        "#dataset.describe()\n",
        "#dataset.info()\n",
        "dataset.shape #(rows, columns)"
      ],
      "metadata": {
        "colab": {
          "base_uri": "https://localhost:8080/"
        },
        "id": "U2VxxXD5qLlU",
        "outputId": "14410a94-6950-4034-fab0-072e6006d90b"
      },
      "execution_count": 13,
      "outputs": [
        {
          "output_type": "execute_result",
          "data": {
            "text/plain": [
              "(119390, 32)"
            ]
          },
          "metadata": {},
          "execution_count": 13
        }
      ]
    },
    {
      "cell_type": "markdown",
      "source": [
        "Separate feature variables(inputs) ie X and Target variables(output) ie y"
      ],
      "metadata": {
        "id": "2D867Xbaqf9Z"
      }
    },
    {
      "cell_type": "code",
      "source": [
        "X = dataset.copy()\n",
        "y = X.pop('is_canceled')\n",
        "\n",
        "print(X.shape)\n",
        "print(y.shape)"
      ],
      "metadata": {
        "colab": {
          "base_uri": "https://localhost:8080/"
        },
        "id": "jqlv2OsNqohm",
        "outputId": "aa7de3e5-f00d-4a18-9bab-0fe2ec79d8c4"
      },
      "execution_count": 14,
      "outputs": [
        {
          "output_type": "stream",
          "name": "stdout",
          "text": [
            "(119390, 31)\n",
            "(119390,)\n"
          ]
        }
      ]
    },
    {
      "cell_type": "markdown",
      "source": [
        "Preprocessing"
      ],
      "metadata": {
        "id": "ArSI5EYJq-D5"
      }
    },
    {
      "cell_type": "code",
      "source": [
        "X['arrival_date_month'] = \\\n",
        "    X['arrival_date_month'].map(\n",
        "        {'January':1, 'February': 2, 'March':3,\n",
        "         'April':4, 'May':5, 'June':6, 'July':7,\n",
        "         'August':8, 'September':9, 'October':10,\n",
        "         'November':11, 'December':12}\n",
        "    )\n",
        "\n",
        "features_num = [\n",
        "    \"lead_time\", \"arrival_date_week_number\",\n",
        "    \"arrival_date_day_of_month\", \"stays_in_weekend_nights\",\n",
        "    \"stays_in_week_nights\", \"adults\", \"children\", \"babies\",\n",
        "    \"is_repeated_guest\", \"previous_cancellations\",\n",
        "    \"previous_bookings_not_canceled\", \"required_car_parking_spaces\",\n",
        "    \"total_of_special_requests\", \"adr\",\n",
        "]\n",
        "features_cat = [\n",
        "    \"hotel\", \"arrival_date_month\", \"meal\",\n",
        "    \"market_segment\", \"distribution_channel\",\n",
        "    \"reserved_room_type\", \"deposit_type\", \"customer_type\",\n",
        "]\n",
        "\n",
        "transformer_num = make_pipeline(\n",
        "    SimpleImputer(strategy=\"constant\"), # there are a few missing values\n",
        "    StandardScaler(),\n",
        ")\n",
        "transformer_cat = make_pipeline(\n",
        "    SimpleImputer(strategy=\"constant\", fill_value=\"NA\"),\n",
        "    OneHotEncoder(handle_unknown='ignore'),\n",
        ")\n",
        "\n",
        "preprocessor = make_column_transformer(\n",
        "    (transformer_num, features_num),\n",
        "    (transformer_cat, features_cat),\n",
        ")\n",
        "\n",
        "# stratify - make sure classes are evenlly represented across splits\n",
        "X_train, X_valid, y_train, y_valid = \\\n",
        "    train_test_split(X, y, stratify=y, train_size=0.75)\n",
        "\n",
        "X_train = preprocessor.fit_transform(X_train)\n",
        "X_valid = preprocessor.transform(X_valid)"
      ],
      "metadata": {
        "id": "p8mMWFNMq_xk"
      },
      "execution_count": 15,
      "outputs": []
    },
    {
      "cell_type": "markdown",
      "source": [
        "X and y after preprocessing"
      ],
      "metadata": {
        "id": "HyohMmnDrCRB"
      }
    },
    {
      "cell_type": "code",
      "source": [
        "print(X_train.shape)\n",
        "print(y_train.shape)\n",
        "print(X_valid.shape)\n",
        "print(y_valid.shape)"
      ],
      "metadata": {
        "colab": {
          "base_uri": "https://localhost:8080/"
        },
        "id": "oIGgP6IkrFc0",
        "outputId": "d623665e-b4d7-4a7d-8b4b-7543ae67ce35"
      },
      "execution_count": 16,
      "outputs": [
        {
          "output_type": "stream",
          "name": "stdout",
          "text": [
            "(89542, 63)\n",
            "(89542,)\n",
            "(29848, 63)\n",
            "(29848,)\n"
          ]
        }
      ]
    },
    {
      "cell_type": "markdown",
      "source": [
        "Define number of inputs"
      ],
      "metadata": {
        "id": "B3EpbBO_r9RU"
      }
    },
    {
      "cell_type": "code",
      "source": [
        "input_shape = [X_train.shape[1]]"
      ],
      "metadata": {
        "id": "qRJFHSK5sBqW"
      },
      "execution_count": 17,
      "outputs": []
    },
    {
      "cell_type": "markdown",
      "source": [
        "Create or import model"
      ],
      "metadata": {
        "id": "NcfjBO3ssF2O"
      }
    },
    {
      "cell_type": "code",
      "source": [
        "model = Sequential([\n",
        "    BatchNormalization(input_shape=input_shape),\n",
        "    Dense(256, activation='relu'),\n",
        "    BatchNormalization(),\n",
        "    Dropout(0.3),\n",
        "    Dense(256, activation='relu'),\n",
        "    BatchNormalization(),\n",
        "    Dropout(0.3),\n",
        "    Dense(1, activation='sigmoid'),\n",
        "])"
      ],
      "metadata": {
        "id": "yCGgznsxruJ0"
      },
      "execution_count": 21,
      "outputs": []
    },
    {
      "cell_type": "markdown",
      "source": [
        "1.   Compile model - define optimizer, loss and matric\n",
        "2.   Print summary of model."
      ],
      "metadata": {
        "id": "Acp-XWq8soHt"
      }
    },
    {
      "cell_type": "code",
      "source": [
        "optimizer = Adam(learning_rate=0.0001)\n",
        "\n",
        "model.compile(\n",
        "    optimizer = optimizer,\n",
        "    loss = 'binary_crossentropy',\n",
        "    metrics = ['binary_accuracy'],\n",
        ")\n",
        "\n",
        "model.summary()"
      ],
      "metadata": {
        "id": "tWRWpRuAspn0",
        "colab": {
          "base_uri": "https://localhost:8080/"
        },
        "outputId": "05612c9d-c1ca-4a95-f25c-33aeb9e477ce"
      },
      "execution_count": 23,
      "outputs": [
        {
          "output_type": "stream",
          "name": "stdout",
          "text": [
            "Model: \"sequential_1\"\n",
            "_________________________________________________________________\n",
            " Layer (type)                Output Shape              Param #   \n",
            "=================================================================\n",
            " batch_normalization_3 (Batc  (None, 63)               252       \n",
            " hNormalization)                                                 \n",
            "                                                                 \n",
            " dense_3 (Dense)             (None, 256)               16384     \n",
            "                                                                 \n",
            " batch_normalization_4 (Batc  (None, 256)              1024      \n",
            " hNormalization)                                                 \n",
            "                                                                 \n",
            " dropout_2 (Dropout)         (None, 256)               0         \n",
            "                                                                 \n",
            " dense_4 (Dense)             (None, 256)               65792     \n",
            "                                                                 \n",
            " batch_normalization_5 (Batc  (None, 256)              1024      \n",
            " hNormalization)                                                 \n",
            "                                                                 \n",
            " dropout_3 (Dropout)         (None, 256)               0         \n",
            "                                                                 \n",
            " dense_5 (Dense)             (None, 1)                 257       \n",
            "                                                                 \n",
            "=================================================================\n",
            "Total params: 84,733\n",
            "Trainable params: 83,583\n",
            "Non-trainable params: 1,150\n",
            "_________________________________________________________________\n"
          ]
        }
      ]
    },
    {
      "cell_type": "code",
      "source": [
        "checkpoint_path = drive_path + 'weights.h5' \n",
        "logger_path = drive_path + 'logger.csv'"
      ],
      "metadata": {
        "id": "B7lcSSfVpeGC"
      },
      "execution_count": 24,
      "outputs": []
    },
    {
      "cell_type": "markdown",
      "source": [
        "Checkpoint will save only best weights which gave best val_binary_accuracy and define logger file\n"
      ],
      "metadata": {
        "id": "-Js5YZNTskOt"
      }
    },
    {
      "cell_type": "code",
      "source": [
        "checkpoint = ModelCheckpoint(filepath=checkpoint_path,\n",
        "                              monitor=\"val_binary_accuracy\",\n",
        "                              mode=\"max\",\n",
        "                              save_best_only=True,\n",
        "                            )\n",
        "\n",
        "logger = CSVLogger(logger_path, append=True, separator=',')"
      ],
      "metadata": {
        "id": "24H1-yOwstnH"
      },
      "execution_count": 28,
      "outputs": []
    },
    {
      "cell_type": "markdown",
      "source": [
        "Early stopping of below parameters says/meaning : \"If there hasn't been at least an improvement of 0.001 in the validation loss over the previous 5 epochs, then stop the training and keep the best model you found.\" (To avoid overfittitng)"
      ],
      "metadata": {
        "id": "8E0ycrqxuEfd"
      }
    },
    {
      "cell_type": "code",
      "source": [
        "early_stopping = EarlyStopping(\n",
        "    patience=5,\n",
        "    min_delta=0.001,\n",
        "    restore_best_weights=True,\n",
        ")"
      ],
      "metadata": {
        "id": "USU1oINYsd1W"
      },
      "execution_count": 27,
      "outputs": []
    },
    {
      "cell_type": "markdown",
      "source": [
        "Run model for training"
      ],
      "metadata": {
        "id": "5FvTK6VGs1XN"
      }
    },
    {
      "cell_type": "code",
      "source": [
        "history = model.fit(\n",
        "    X_train, y_train,\n",
        "    validation_data=(X_valid, y_valid),\n",
        "    batch_size=512,\n",
        "    epochs=200,\n",
        "    verbose=1,\n",
        "    callbacks=[early_stopping,checkpoint,logger],\n",
        ")"
      ],
      "metadata": {
        "colab": {
          "base_uri": "https://localhost:8080/"
        },
        "id": "ZtKxHlNrs2G4",
        "outputId": "eaee0c8c-25c7-4cf0-e2f2-a57fcc60a297"
      },
      "execution_count": 29,
      "outputs": [
        {
          "output_type": "stream",
          "name": "stdout",
          "text": [
            "Epoch 1/200\n",
            "175/175 [==============================] - 6s 20ms/step - loss: 0.5980 - binary_accuracy: 0.6897 - val_loss: 0.4728 - val_binary_accuracy: 0.7782\n",
            "Epoch 2/200\n",
            "175/175 [==============================] - 3s 18ms/step - loss: 0.5030 - binary_accuracy: 0.7581 - val_loss: 0.4334 - val_binary_accuracy: 0.7961\n",
            "Epoch 3/200\n",
            "175/175 [==============================] - 3s 18ms/step - loss: 0.4801 - binary_accuracy: 0.7719 - val_loss: 0.4253 - val_binary_accuracy: 0.8019\n",
            "Epoch 4/200\n",
            "175/175 [==============================] - 3s 18ms/step - loss: 0.4692 - binary_accuracy: 0.7766 - val_loss: 0.4203 - val_binary_accuracy: 0.8040\n",
            "Epoch 5/200\n",
            "175/175 [==============================] - 3s 18ms/step - loss: 0.4580 - binary_accuracy: 0.7834 - val_loss: 0.4175 - val_binary_accuracy: 0.8065\n",
            "Epoch 6/200\n",
            "175/175 [==============================] - 4s 20ms/step - loss: 0.4513 - binary_accuracy: 0.7860 - val_loss: 0.4144 - val_binary_accuracy: 0.8088\n",
            "Epoch 7/200\n",
            "175/175 [==============================] - 4s 25ms/step - loss: 0.4438 - binary_accuracy: 0.7904 - val_loss: 0.4116 - val_binary_accuracy: 0.8092\n",
            "Epoch 8/200\n",
            "175/175 [==============================] - 3s 19ms/step - loss: 0.4372 - binary_accuracy: 0.7939 - val_loss: 0.4085 - val_binary_accuracy: 0.8104\n",
            "Epoch 9/200\n",
            "175/175 [==============================] - 3s 18ms/step - loss: 0.4323 - binary_accuracy: 0.7956 - val_loss: 0.4066 - val_binary_accuracy: 0.8107\n",
            "Epoch 10/200\n",
            "175/175 [==============================] - 3s 18ms/step - loss: 0.4297 - binary_accuracy: 0.7978 - val_loss: 0.4036 - val_binary_accuracy: 0.8112\n",
            "Epoch 11/200\n",
            "175/175 [==============================] - 5s 27ms/step - loss: 0.4266 - binary_accuracy: 0.7986 - val_loss: 0.4031 - val_binary_accuracy: 0.8118\n",
            "Epoch 12/200\n",
            "175/175 [==============================] - 4s 22ms/step - loss: 0.4227 - binary_accuracy: 0.8016 - val_loss: 0.4016 - val_binary_accuracy: 0.8127\n",
            "Epoch 13/200\n",
            "175/175 [==============================] - 3s 18ms/step - loss: 0.4211 - binary_accuracy: 0.8030 - val_loss: 0.4008 - val_binary_accuracy: 0.8136\n",
            "Epoch 14/200\n",
            "175/175 [==============================] - 3s 18ms/step - loss: 0.4195 - binary_accuracy: 0.8036 - val_loss: 0.3994 - val_binary_accuracy: 0.8159\n",
            "Epoch 15/200\n",
            "175/175 [==============================] - 3s 17ms/step - loss: 0.4168 - binary_accuracy: 0.8040 - val_loss: 0.3979 - val_binary_accuracy: 0.8162\n",
            "Epoch 16/200\n",
            "175/175 [==============================] - 3s 18ms/step - loss: 0.4136 - binary_accuracy: 0.8067 - val_loss: 0.3969 - val_binary_accuracy: 0.8167\n",
            "Epoch 17/200\n",
            "175/175 [==============================] - 3s 17ms/step - loss: 0.4109 - binary_accuracy: 0.8070 - val_loss: 0.3964 - val_binary_accuracy: 0.8160\n",
            "Epoch 18/200\n",
            "175/175 [==============================] - 3s 18ms/step - loss: 0.4103 - binary_accuracy: 0.8074 - val_loss: 0.3942 - val_binary_accuracy: 0.8174\n",
            "Epoch 19/200\n",
            "175/175 [==============================] - 3s 17ms/step - loss: 0.4089 - binary_accuracy: 0.8073 - val_loss: 0.3931 - val_binary_accuracy: 0.8175\n",
            "Epoch 20/200\n",
            "175/175 [==============================] - 3s 17ms/step - loss: 0.4062 - binary_accuracy: 0.8089 - val_loss: 0.3930 - val_binary_accuracy: 0.8178\n",
            "Epoch 21/200\n",
            "175/175 [==============================] - 3s 17ms/step - loss: 0.4058 - binary_accuracy: 0.8107 - val_loss: 0.3919 - val_binary_accuracy: 0.8187\n",
            "Epoch 22/200\n",
            "175/175 [==============================] - 3s 17ms/step - loss: 0.4038 - binary_accuracy: 0.8108 - val_loss: 0.3904 - val_binary_accuracy: 0.8193\n",
            "Epoch 23/200\n",
            "175/175 [==============================] - 3s 17ms/step - loss: 0.4030 - binary_accuracy: 0.8117 - val_loss: 0.3903 - val_binary_accuracy: 0.8193\n",
            "Epoch 24/200\n",
            "175/175 [==============================] - 3s 17ms/step - loss: 0.4020 - binary_accuracy: 0.8125 - val_loss: 0.3895 - val_binary_accuracy: 0.8189\n",
            "Epoch 25/200\n",
            "175/175 [==============================] - 3s 18ms/step - loss: 0.4006 - binary_accuracy: 0.8122 - val_loss: 0.3906 - val_binary_accuracy: 0.8198\n",
            "Epoch 26/200\n",
            "175/175 [==============================] - 3s 17ms/step - loss: 0.3991 - binary_accuracy: 0.8141 - val_loss: 0.3886 - val_binary_accuracy: 0.8192\n",
            "Epoch 27/200\n",
            "175/175 [==============================] - 3s 18ms/step - loss: 0.3984 - binary_accuracy: 0.8134 - val_loss: 0.3878 - val_binary_accuracy: 0.8204\n",
            "Epoch 28/200\n",
            "175/175 [==============================] - 3s 18ms/step - loss: 0.3976 - binary_accuracy: 0.8147 - val_loss: 0.3869 - val_binary_accuracy: 0.8214\n",
            "Epoch 29/200\n",
            "175/175 [==============================] - 3s 18ms/step - loss: 0.3970 - binary_accuracy: 0.8153 - val_loss: 0.3864 - val_binary_accuracy: 0.8203\n",
            "Epoch 30/200\n",
            "175/175 [==============================] - 3s 18ms/step - loss: 0.3976 - binary_accuracy: 0.8142 - val_loss: 0.3856 - val_binary_accuracy: 0.8207\n",
            "Epoch 31/200\n",
            "175/175 [==============================] - 3s 18ms/step - loss: 0.3954 - binary_accuracy: 0.8158 - val_loss: 0.3854 - val_binary_accuracy: 0.8212\n",
            "Epoch 32/200\n",
            "175/175 [==============================] - 3s 18ms/step - loss: 0.3933 - binary_accuracy: 0.8167 - val_loss: 0.3846 - val_binary_accuracy: 0.8229\n",
            "Epoch 33/200\n",
            "175/175 [==============================] - 4s 20ms/step - loss: 0.3941 - binary_accuracy: 0.8158 - val_loss: 0.3845 - val_binary_accuracy: 0.8226\n",
            "Epoch 34/200\n",
            "175/175 [==============================] - 3s 19ms/step - loss: 0.3933 - binary_accuracy: 0.8166 - val_loss: 0.3830 - val_binary_accuracy: 0.8231\n",
            "Epoch 35/200\n",
            "175/175 [==============================] - 3s 19ms/step - loss: 0.3917 - binary_accuracy: 0.8167 - val_loss: 0.3828 - val_binary_accuracy: 0.8233\n",
            "Epoch 36/200\n",
            "175/175 [==============================] - 3s 19ms/step - loss: 0.3907 - binary_accuracy: 0.8186 - val_loss: 0.3826 - val_binary_accuracy: 0.8231\n",
            "Epoch 37/200\n",
            "175/175 [==============================] - 3s 19ms/step - loss: 0.3909 - binary_accuracy: 0.8179 - val_loss: 0.3818 - val_binary_accuracy: 0.8229\n",
            "Epoch 38/200\n",
            "175/175 [==============================] - 3s 19ms/step - loss: 0.3894 - binary_accuracy: 0.8194 - val_loss: 0.3810 - val_binary_accuracy: 0.8256\n",
            "Epoch 39/200\n",
            "175/175 [==============================] - 4s 25ms/step - loss: 0.3905 - binary_accuracy: 0.8178 - val_loss: 0.3816 - val_binary_accuracy: 0.8257\n",
            "Epoch 40/200\n",
            "175/175 [==============================] - 6s 33ms/step - loss: 0.3885 - binary_accuracy: 0.8189 - val_loss: 0.3806 - val_binary_accuracy: 0.8256\n",
            "Epoch 41/200\n",
            "175/175 [==============================] - 6s 36ms/step - loss: 0.3889 - binary_accuracy: 0.8198 - val_loss: 0.3795 - val_binary_accuracy: 0.8263\n",
            "Epoch 42/200\n",
            "175/175 [==============================] - 3s 19ms/step - loss: 0.3877 - binary_accuracy: 0.8200 - val_loss: 0.3787 - val_binary_accuracy: 0.8265\n",
            "Epoch 43/200\n",
            "175/175 [==============================] - 3s 19ms/step - loss: 0.3875 - binary_accuracy: 0.8193 - val_loss: 0.3789 - val_binary_accuracy: 0.8262\n",
            "Epoch 44/200\n",
            "175/175 [==============================] - 3s 19ms/step - loss: 0.3865 - binary_accuracy: 0.8205 - val_loss: 0.3783 - val_binary_accuracy: 0.8263\n",
            "Epoch 45/200\n",
            "175/175 [==============================] - 3s 19ms/step - loss: 0.3857 - binary_accuracy: 0.8202 - val_loss: 0.3774 - val_binary_accuracy: 0.8271\n",
            "Epoch 46/200\n",
            "175/175 [==============================] - 3s 19ms/step - loss: 0.3850 - binary_accuracy: 0.8210 - val_loss: 0.3771 - val_binary_accuracy: 0.8272\n",
            "Epoch 47/200\n",
            "175/175 [==============================] - 3s 18ms/step - loss: 0.3843 - binary_accuracy: 0.8211 - val_loss: 0.3768 - val_binary_accuracy: 0.8267\n",
            "Epoch 48/200\n",
            "175/175 [==============================] - 3s 19ms/step - loss: 0.3829 - binary_accuracy: 0.8216 - val_loss: 0.3770 - val_binary_accuracy: 0.8269\n",
            "Epoch 49/200\n",
            "175/175 [==============================] - 3s 18ms/step - loss: 0.3821 - binary_accuracy: 0.8222 - val_loss: 0.3769 - val_binary_accuracy: 0.8274\n",
            "Epoch 50/200\n",
            "175/175 [==============================] - 3s 19ms/step - loss: 0.3822 - binary_accuracy: 0.8221 - val_loss: 0.3754 - val_binary_accuracy: 0.8270\n",
            "Epoch 51/200\n",
            "175/175 [==============================] - 3s 19ms/step - loss: 0.3831 - binary_accuracy: 0.8224 - val_loss: 0.3753 - val_binary_accuracy: 0.8278\n",
            "Epoch 52/200\n",
            "175/175 [==============================] - 3s 18ms/step - loss: 0.3817 - binary_accuracy: 0.8232 - val_loss: 0.3745 - val_binary_accuracy: 0.8271\n",
            "Epoch 53/200\n",
            "175/175 [==============================] - 3s 18ms/step - loss: 0.3802 - binary_accuracy: 0.8230 - val_loss: 0.3739 - val_binary_accuracy: 0.8268\n",
            "Epoch 54/200\n",
            "175/175 [==============================] - 3s 18ms/step - loss: 0.3821 - binary_accuracy: 0.8232 - val_loss: 0.3738 - val_binary_accuracy: 0.8276\n",
            "Epoch 55/200\n",
            "175/175 [==============================] - 3s 18ms/step - loss: 0.3803 - binary_accuracy: 0.8234 - val_loss: 0.3739 - val_binary_accuracy: 0.8282\n",
            "Epoch 56/200\n",
            "175/175 [==============================] - 3s 18ms/step - loss: 0.3796 - binary_accuracy: 0.8234 - val_loss: 0.3729 - val_binary_accuracy: 0.8279\n",
            "Epoch 57/200\n",
            "175/175 [==============================] - 3s 19ms/step - loss: 0.3789 - binary_accuracy: 0.8243 - val_loss: 0.3738 - val_binary_accuracy: 0.8279\n",
            "Epoch 58/200\n",
            "175/175 [==============================] - 3s 19ms/step - loss: 0.3787 - binary_accuracy: 0.8237 - val_loss: 0.3733 - val_binary_accuracy: 0.8284\n"
          ]
        }
      ]
    },
    {
      "cell_type": "markdown",
      "source": [
        "Print graph"
      ],
      "metadata": {
        "id": "AQnmd3l9tVSP"
      }
    },
    {
      "cell_type": "code",
      "source": [
        "history_df = pd.DataFrame(history.history)\n",
        "history_df.loc[:, ['loss', 'val_loss']].plot(title=\"Loss\")\n",
        "history_df.loc[:, ['binary_accuracy', 'val_binary_accuracy']].plot(title=\"Accuracy\")"
      ],
      "metadata": {
        "colab": {
          "base_uri": "https://localhost:8080/",
          "height": 558
        },
        "id": "CMQMI3W9tW3A",
        "outputId": "b66a3b7f-fe81-41ce-bc99-fe4af9aecf63"
      },
      "execution_count": 30,
      "outputs": [
        {
          "output_type": "execute_result",
          "data": {
            "text/plain": [
              "<matplotlib.axes._subplots.AxesSubplot at 0x7f484a725ed0>"
            ]
          },
          "metadata": {},
          "execution_count": 30
        },
        {
          "output_type": "display_data",
          "data": {
            "image/png": "[encoded data removed]",
            "text/plain": [
              "<Figure size 432x288 with 1 Axes>"
            ]
          },
          "metadata": {
            "needs_background": "light"
          }
        },
        {
          "output_type": "display_data",
          "data": {
            "image/png": "[encoded data removed]",
            "text/plain": [
              "<Figure size 432x288 with 1 Axes>"
            ]
          },
          "metadata": {
            "needs_background": "light"
          }
        }
      ]
    },
    {
      "cell_type": "markdown",
      "source": [
        "Load best saved weights"
      ],
      "metadata": {
        "id": "t3rqgFq8tOHa"
      }
    },
    {
      "cell_type": "code",
      "source": [
        "model.load_weights(checkpoint_path)"
      ],
      "metadata": {
        "id": "RQ9PvL7ztRPC"
      },
      "execution_count": 32,
      "outputs": []
    },
    {
      "cell_type": "markdown",
      "source": [
        "Evaluate model / Testing model"
      ],
      "metadata": {
        "id": "jMfs0MzR7hPH"
      }
    },
    {
      "cell_type": "code",
      "source": [
        "loss, acc = model.evaluate(X_valid, y_valid)\n",
        "print(\"Model accuracy: {:5.2f}%\".format(100 * acc))"
      ],
      "metadata": {
        "colab": {
          "base_uri": "https://localhost:8080/"
        },
        "id": "0txs4wJl7jj3",
        "outputId": "856cf97a-8131-4d98-b1de-5ddb69992e7d"
      },
      "execution_count": 34,
      "outputs": [
        {
          "output_type": "stream",
          "name": "stdout",
          "text": [
            "933/933 [==============================] - 2s 2ms/step - loss: 0.3739 - binary_accuracy: 0.8268\n",
            "Model accuracy: 82.68%\n"
          ]
        }
      ]
    },
    {
      "cell_type": "markdown",
      "source": [
        "Prediction of model"
      ],
      "metadata": {
        "id": "QygzgUXg-F_g"
      }
    },
    {
      "cell_type": "code",
      "source": [
        "predictions = model.predict(X_valid)\n",
        "\n",
        "# Convert prediction into classes for binary classification, if prediction more than 0.5 then 1 or 0\n",
        "predictions = (predictions > 0.5).astype(\"int32\")"
      ],
      "metadata": {
        "id": "cJ8nFXv9t05m"
      },
      "execution_count": 35,
      "outputs": []
    },
    {
      "cell_type": "markdown",
      "source": [
        "Verify prediction"
      ],
      "metadata": {
        "id": "V4Bl7Rem1vgt"
      }
    },
    {
      "cell_type": "code",
      "source": [
        "select_ip = 45\n",
        "\n",
        "print(f'Prediction of Given Input : {predictions[select_ip]}')\n",
        "print(f'Actual label of Given Input : {y_valid.values[select_ip]}')\n",
        "\n",
        "if predictions[select_ip] == y_valid.values[select_ip]:\n",
        "  print(f'Predicted Correctly')\n",
        "else:\n",
        "  print(f'Predicted Incorrectly')"
      ],
      "metadata": {
        "colab": {
          "base_uri": "https://localhost:8080/"
        },
        "id": "QwL3bUzOuqjs",
        "outputId": "00cf42a1-0644-4071-9255-d5cc98a214a3"
      },
      "execution_count": 40,
      "outputs": [
        {
          "output_type": "stream",
          "name": "stdout",
          "text": [
            "Prediction of Given Input : [0]\n",
            "Actual label of Given Input : 0\n",
            "Predicted Correctly\n"
          ]
        }
      ]
    }
  ]
}